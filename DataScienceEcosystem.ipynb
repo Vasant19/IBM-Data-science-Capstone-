{
 "cells": [
  {
   "cell_type": "markdown",
   "id": "44107cc1",
   "metadata": {},
   "source": [
    "# Data Science Tools and Ecosystem"
   ]
  },
  {
   "cell_type": "markdown",
   "id": "b08e2130",
   "metadata": {},
   "source": [
    "### In this notebook, Data Science Tools and Ecosystem are summarized."
   ]
  },
  {
   "cell_type": "markdown",
   "id": "602f0897",
   "metadata": {},
   "source": [
    "#### Some of the popular languages that Data Scientists use are:"
   ]
  },
  {
   "cell_type": "markdown",
   "id": "628a5b41",
   "metadata": {},
   "source": [
    "# ordered list:\n",
    "              1) Python\n",
    "              2) SQL\n",
    "              3) R"
   ]
  },
  {
   "cell_type": "markdown",
   "id": "e1a870a6",
   "metadata": {},
   "source": [
    "#### Some of the popular libraries that Data Scientists use are:"
   ]
  },
  {
   "cell_type": "markdown",
   "id": "f12633fd",
   "metadata": {},
   "source": [
    "ordered list: 1)Scikit-learn 2)TensorFlow 3)Pandas or numpy"
   ]
  },
  {
   "cell_type": "markdown",
   "id": "d81623bd",
   "metadata": {},
   "source": [
    " | Data Science Tools |\n",
    " | Jupyter Notebook   |\n",
    " |      R Studio      |\n",
    " |  Apache Zeppelin   |"
   ]
  },
  {
   "cell_type": "markdown",
   "id": "8d1f079e",
   "metadata": {},
   "source": [
    "### Below are a few examples of evaluating arithmetic expressions in Python"
   ]
  },
  {
   "cell_type": "code",
   "execution_count": 2,
   "id": "1225a2e4",
   "metadata": {},
   "outputs": [
    {
     "data": {
      "text/plain": [
       "17"
      ]
     },
     "execution_count": 2,
     "metadata": {},
     "output_type": "execute_result"
    }
   ],
   "source": [
    "#This a simple arithmetic expression to mutiply then add integers\n",
    "(3*4)+5"
   ]
  },
  {
   "cell_type": "code",
   "execution_count": 4,
   "id": "809cc749",
   "metadata": {},
   "outputs": [
    {
     "data": {
      "text/plain": [
       "3.3333333333333335"
      ]
     },
     "execution_count": 4,
     "metadata": {},
     "output_type": "execute_result"
    }
   ],
   "source": [
    "#This will convert 200 minutes to hours by dividing by 60\n",
    "200 / 60"
   ]
  },
  {
   "cell_type": "markdown",
   "id": "628284c4",
   "metadata": {},
   "source": [
    "## Objectives:\n",
    "1) List popular languages for Data Science\n",
    "2) Identify commonly used libraries in Data Science\n",
    "3) nderstand basic arithmetic operations in Python\n",
    "4) amiliarize yourself with Jupyter Notebook environment\n",
    "5) Learn to create tables and lists in Markdown cells"
   ]
  },
  {
   "cell_type": "markdown",
   "id": "40f75db9",
   "metadata": {},
   "source": [
    "## Author:\n",
    "### Vasant Dave"
   ]
  }
 ],
 "metadata": {
  "kernelspec": {
   "display_name": "Python 3 (ipykernel)",
   "language": "python",
   "name": "python3"
  },
  "language_info": {
   "codemirror_mode": {
    "name": "ipython",
    "version": 3
   },
   "file_extension": ".py",
   "mimetype": "text/x-python",
   "name": "python",
   "nbconvert_exporter": "python",
   "pygments_lexer": "ipython3",
   "version": "3.11.5"
  }
 },
 "nbformat": 4,
 "nbformat_minor": 5
}
